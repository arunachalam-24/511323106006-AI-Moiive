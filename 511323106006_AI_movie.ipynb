{
  "nbformat": 4,
  "nbformat_minor": 0,
  "metadata": {
    "colab": {
      "provenance": [],
      "authorship_tag": "ABX9TyO+B+1RmdepyKhJ3SrqJcOc",
      "include_colab_link": true
    },
    "kernelspec": {
      "name": "python3",
      "display_name": "Python 3"
    },
    "language_info": {
      "name": "python"
    }
  },
  "cells": [
    {
      "cell_type": "markdown",
      "metadata": {
        "id": "view-in-github",
        "colab_type": "text"
      },
      "source": [
        "<a href=\"https://colab.research.google.com/github/arunachalam-24/511323106006-AI-Moiive/blob/main/511323106006_AI_movie.ipynb\" target=\"_parent\"><img src=\"https://colab.research.google.com/assets/colab-badge.svg\" alt=\"Open In Colab\"/></a>"
      ]
    },
    {
      "cell_type": "code",
      "execution_count": null,
      "metadata": {
        "id": "3-_ow_-UN4lT"
      },
      "outputs": [],
      "source": [
        "Here’s a Python example of a basic AI-driven movie recommendation system using collaborative filtering with a simple matchmaking component. This version uses pandas, scikit-learn, and cosine similarity for user-movie affinity matching:\n",
        "\n",
        "Requirements\n",
        "\n",
        "Install dependencies:\n",
        "\n",
        "pip install pandas scikit-learn\n",
        "\n",
        "Python Code\n",
        "2\n",
        "import pandas as pd\n",
        "from sklearn.metrics.pairwise import cosine_similarity\n",
        "from sklearn.preprocessing import StandardScaler\n",
        "\n",
        "# Sample user-movie ratings data\n",
        "ratings_dict = {\n",
        "    'user_id': [1, 1, 1, 2, 2, 3, 3, 4],\n",
        "    'movie': ['Inception', 'Interstellar', 'The Matrix', 'Inception', 'Tenet', 'The Matrix', 'Tenet', 'Interstellar'],\n",
        "    'rating': [5, 4, 5, 5, 3, 4, 4, 2]\n",
        "}\n",
        "\n",
        "# Create DataFrame\n",
        "df = pd.DataFrame(ratings_dict)\n",
        "\n",
        "# Create user-item matrix\n",
        "user_movie_matrix = df.pivot_table(index='user_id', columns='movie', values='rating').fillna(0)\n",
        "\n",
        "# Normalize ratings\n",
        "scaler = StandardScaler()\n",
        "user_movie_matrix_scaled = scaler.fit_transform(user_movie_matrix)\n",
        "\n",
        "# Compute similarity between users\n",
        "user_similarity = cosine_similarity(user_movie_matrix_scaled)\n",
        "\n",
        "# Convert similarity array to DataFrame\n",
        "user_similarity_df = pd.DataFrame(user_similarity, index=user_movie_matrix.index, columns=user_movie_matrix.index)\n",
        "\n",
        "def get_similar_users(user_id, top_n=2):\n",
        "    \"\"\"Return top N similar users to the given user_id\"\"\"\n",
        "    if user_id not in user_similarity_df.index:\n",
        "        return []\n",
        "    return user_similarity_df[user_id].sort_values(ascending=False).drop(user_id).head(top_n).index.tolist()\n",
        "\n",
        "def recommend_movies(user_id, top_n=3):\n",
        "    \"\"\"Recommend movies for a user based on similar users' ratings\"\"\"\n",
        "    similar_users = get_similar_users(user_id)\n",
        "    if not similar_users:\n",
        "        return []\n",
        "\n",
        "    # Aggregate ratings from similar users\n",
        "    similar_ratings = user_movie_matrix.loc[similar_users].mean()\n",
        "    # Exclude movies already rated by the user\n",
        "    rated_movies = user_movie_matrix.loc[user_id]\n",
        "    unrated_movies = rated_movies[rated_movies == 0]\n",
        "    recommendations = similar_ratings[unrated_movies.index].sort_values(ascending=False).head(top_n)\n",
        "\n",
        "    return recommendations.index.tolist()\n",
        "\n",
        "# Example usage\n",
        "user_id = 1\n",
        "print(f\"Recommended movies for user {user_id}: {recommend_movies(user_id)}\")\n",
        "\n",
        "Explanation:\n",
        "\n",
        "Builds a user-item matrix from ratings.\n",
        "\n",
        "Uses cosine similarity to find similar users.\n",
        "\n",
        "Recommends movies that similar users liked but the target user hasn’t rated yet.\n",
        "\n",
        "\n",
        "Would you like to extend this with genre preferences, deep learning models, or a matchmaking feature between users based on shared movie tastes?"
      ]
    },
    {
      "cell_type": "markdown",
      "source": [],
      "metadata": {
        "id": "6IrqMC3uOWsB"
      }
    },
    {
      "cell_type": "markdown",
      "source": [],
      "metadata": {
        "id": "YApDAEr7N-nK"
      }
    }
  ]
}